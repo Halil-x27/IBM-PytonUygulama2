{
  "metadata": {
    "kernelspec": {
      "name": "python",
      "display_name": "Python (Pyodide)",
      "language": "python"
    },
    "language_info": {
      "codemirror_mode": {
        "name": "python",
        "version": 3
      },
      "file_extension": ".py",
      "mimetype": "text/x-python",
      "name": "python",
      "nbconvert_exporter": "python",
      "pygments_lexer": "ipython3",
      "version": "3.8"
    }
  },
  "nbformat_minor": 5,
  "nbformat": 4,
  "cells": [
    {
      "id": "fe55883a-6887-43dd-9498-5333a51799e2",
      "cell_type": "code",
      "source": "import math\n\n# 1. Noktaların Tanımlanması\npoints = [(1, 2), (3, 4), (5, 6), (7, 8)]\n\n# 2. Öklid Mesafesi İçin Bir Fonksiyon Yazma\ndef euclideanDistance(point1, point2):\n    x1, y1 = point1\n    x2, y2 = point2\n    return math.sqrt((x2 - x1)**2 + (y2 - y1)**2)\n\n# 3. Mesafelerin Hesaplanması\ndistances = []\nfor i in range(len(points)):\n    for j in range(i + 1, len(points)):\n        distance = euclideanDistance(points[i], points[j])\n        distances.append(distance)\n\n# 4. Minimum Mesafenin Bulunması\nmin_distance = min(distances)\nprint(f\"Minimum mesafe: {min_distance}\")\n",
      "metadata": {
        "trusted": true
      },
      "outputs": [
        {
          "name": "stdout",
          "text": "Minimum mesafe: 2.8284271247461903\n",
          "output_type": "stream"
        }
      ],
      "execution_count": 1
    },
    {
      "id": "e0240fec-f4c2-4abe-bd14-95e97500f386",
      "cell_type": "code",
      "source": "",
      "metadata": {
        "trusted": true
      },
      "outputs": [],
      "execution_count": null
    }
  ]
}